{
 "cells": [
  {
   "cell_type": "code",
   "execution_count": 5,
   "metadata": {
    "collapsed": false
   },
   "outputs": [
    {
     "name": "stdout",
     "output_type": "stream",
     "text": [
      "\n",
      "mape:  52.07213995369804\n",
      "\n",
      "\n",
      "mape:  57.71358932596669\n",
      "\n",
      "\n",
      "mape:  52.07207728235157\n",
      "\n",
      "\n",
      "mape:  55.617344901274336\n",
      "\n"
     ]
    }
   ],
   "source": [
    "\n",
    "from __future__ import print_function\n",
    "from __future__ import division\n",
    "\n",
    "import os\n",
    "\n",
    "import pandas as pd\n",
    "import numpy as np\n",
    "from tqdm import tqdm_notebook\n",
    "\n",
    "from scipy.optimize import curve_fit\n",
    "\n",
    "# let's not pollute this blog post with warnings\n",
    "from warnings import filterwarnings\n",
    "filterwarnings('ignore')\n",
    "\n",
    "def run(clf):\n",
    "    observations = pd.read_csv(os.path.join('./', 'training_set_observations.csv'), index_col=0)\n",
    "    nest_counts = pd.read_csv(\n",
    "                os.path.join('./', 'training_set_nest_counts.csv'),\n",
    "                index_col=[0,1]\n",
    "              )\n",
    "    def preprocess_timeseries(timeseries, first_year, fillna_value=0):\n",
    "        \"\"\" Takes one of the timeseries dataframes, removes\n",
    "            columns before `first_year`, and fills NaN values\n",
    "            with the preceeding value. Then backfills any\n",
    "            remaining NaNs.\n",
    "\n",
    "            As a courtesy, also turns year column name into\n",
    "            integers for easy comparisons.\n",
    "        \"\"\"\n",
    "        # column type\n",
    "        timeseries.columns = timeseries.columns.astype(int)\n",
    "\n",
    "        # subset to just data after first_year\n",
    "        timeseries = timeseries.loc[:, timeseries.columns >= first_year]\n",
    "\n",
    "        # Forward fill count values. This is a strong assumption.\n",
    "        timeseries.fillna(method=\"ffill\", axis=1, inplace=True)\n",
    "        timeseries.fillna(method=\"bfill\", axis=1, inplace=True)\n",
    "\n",
    "        # For sites with no observations, fill with fill_na_value\n",
    "        timeseries.fillna(fillna_value, inplace=True)\n",
    "\n",
    "        return timeseries\n",
    "    \n",
    "    def preprocess_timeseries_interpolation(timeseries, first_year, fillna_value=0):\n",
    "        \"\"\" Takes one of the timeseries dataframes, removes\n",
    "            columns before `first_year`, and fills NaN values\n",
    "            with the preceeding value. Then backfills any\n",
    "            remaining NaNs.\n",
    "\n",
    "            As a courtesy, also turns year column name into\n",
    "            integers for easy comparisons.\n",
    "        \"\"\"\n",
    "        # column type\n",
    "        timeseries.columns = timeseries.columns.astype(int)\n",
    "\n",
    "        # subset to just data after first_year\n",
    "        timeseries = timeseries.loc[:, timeseries.columns >= first_year]\n",
    "\n",
    "        # interpolate then extrapolate using scipy optimize\n",
    "        timeseries.interpolate(method='linear',order=2,inplace=True)\n",
    "        def func(x, a, b, c, d):\n",
    "            return a * (x ** 3) + b * (x ** 2) + c * x + d\n",
    "        guess = (0.5, 0.5, 0.5, 0.5)\n",
    "        fit_df = timeseries.dropna()\n",
    "        col_params = {}\n",
    "        # Curve fit each column\n",
    "        for col in fit_df.columns:\n",
    "            # Get x & y\n",
    "            x = fit_df.index.astype(float).values\n",
    "            y = fit_df[col].values\n",
    "            # Curve fit column and get curve parameters\n",
    "            params = curve_fit(func, x, y, guess)\n",
    "            # Store optimized parameters\n",
    "            col_params[col] = params[0]\n",
    "        for col in timeseries.columns:\n",
    "            # Get the index values for NaNs in the column\n",
    "            x = timeseries[pd.isnull(timeseries[col])].index.astype(float).values\n",
    "            # Extrapolate those points with the fitted function\n",
    "            timeseries.loc[col,x] = func(x, *col_params[col])\n",
    "\n",
    "        # For sites with no observations, fill with fill_na_value\n",
    "        timeseries.fillna(fillna_value, inplace=True)\n",
    "\n",
    "        return timeseries\n",
    "\n",
    "    nest_counts = preprocess_timeseries(nest_counts,\n",
    "                                        1980,\n",
    "                                        fillna_value=0.0)\n",
    "\n",
    "    e_n_values = pd.read_csv(\n",
    "                 os.path.join('./', 'training_set_e_n.csv'),\n",
    "                 index_col=[0,1]\n",
    "             )\n",
    "\n",
    "    # Process error data to match our nest_counts data\n",
    "    e_n_values = preprocess_timeseries(e_n_values, 1980, fillna_value=0.05)\n",
    "\n",
    "    def amape(y_true, y_pred, accuracies):\n",
    "        \"\"\" Adjusted MAPE\n",
    "        \"\"\"\n",
    "        not_nan_mask = ~np.isnan(y_true)\n",
    "\n",
    "        # calculate absolute error\n",
    "        abs_error = (np.abs(y_true[not_nan_mask] - y_pred[not_nan_mask]))\n",
    "\n",
    "        # calculate the percent error (replacing 0 with 1\n",
    "        # in order to avoid divide-by-zero errors).\n",
    "        pct_error = abs_error / np.maximum(1, y_true[not_nan_mask])\n",
    "\n",
    "        # adjust error by count accuracies\n",
    "        adj_error = pct_error / accuracies[not_nan_mask]\n",
    "\n",
    "        # return the mean as a percentage\n",
    "        return np.mean(adj_error)\n",
    "    \n",
    "    \n",
    "    def train_model_per_row(ts, acc, split_year=2010):\n",
    "        # Split into train/test to tune our parameter\n",
    "        train = ts.iloc[ts.index < split_year]\n",
    "\n",
    "        test = ts.iloc[ts.index >= split_year]\n",
    "        test_acc = acc.iloc[acc.index >= split_year]\n",
    "\n",
    "        # Store best lag parameter\n",
    "        best_mape = np.inf \n",
    "        best_lag = None\n",
    "\n",
    "        # Test linear regression models with the most recent\n",
    "        # 2 points through using all of the points\n",
    "        for lag in range(2, train.shape[0],2):\n",
    "            # fit the model\n",
    "            temp_model = clf()\n",
    "            temp_model.fit(\n",
    "                train.index[-lag:].values.reshape(-1, 1),\n",
    "                train[-lag:]\n",
    "            )\n",
    "\n",
    "            # make our predictions on the test set\n",
    "            preds = temp_model.predict(\n",
    "                        test.index.values.reshape(-1, 1)\n",
    "                    )\n",
    "\n",
    "            # calculate the score using the custom metric\n",
    "            mape = amape(test.values,\n",
    "                         preds,\n",
    "                         test_acc.values)\n",
    "\n",
    "            # if it's the best score yet, hold on to the parameter\n",
    "            if mape < best_mape:\n",
    "                best_mape = mape\n",
    "                best_lag = lag\n",
    "\n",
    "        # return model re-trained on entire dataset\n",
    "        final_model = clf()\n",
    "        final_model.fit(\n",
    "            ts.index[-best_lag:].values.reshape(-1, 1),\n",
    "            ts[-best_lag:]\n",
    "        )\n",
    "\n",
    "        return best_mape, final_model\n",
    "\n",
    "    models = {}\n",
    "    scores = []\n",
    "\n",
    "    for i, row in tqdm_notebook(nest_counts.iterrows(),\n",
    "                                total=nest_counts.shape[0]):\n",
    "        acc = e_n_values.loc[i]\n",
    "        score, models[i] = train_model_per_row(row, acc)\n",
    "        scores.append(score)\n",
    "        \n",
    "    submission_format = pd.read_csv(\n",
    "        os.path.join('./','submission_format.csv'),\n",
    "        index_col=[0, 1]\n",
    "    )\n",
    "    \n",
    "    print(\"mape: \", np.array(scores).mean())\n",
    "    \n",
    "    preds = []\n",
    "\n",
    "    # For every row in the submission file\n",
    "    for i, row in tqdm_notebook(submission_format.iterrows(),\n",
    "                                total=submission_format.shape[0]):\n",
    "\n",
    "        # get the model for this site + common_name\n",
    "        model = models[i]\n",
    "\n",
    "        # make predictions using the model\n",
    "        row_predictions = model.predict(\n",
    "            submission_format.columns.values.reshape(-1, 1)\n",
    "        )\n",
    "\n",
    "        # keep our predictions, rounded to nearest whole number\n",
    "        preds.append(np.round(row_predictions))\n",
    "\n",
    "    # Create a dataframe that we can write out to a CSV\n",
    "    prediction_df = pd.DataFrame(preds,\n",
    "                                 index=submission_format.index,\n",
    "                                 columns=submission_format.columns)\n",
    "    \n",
    "    return prediction_df\n",
    "\n",
    "\n",
    "from sklearn.linear_model import LinearRegression as lr\n",
    "from sklearn.ensemble import GradientBoostingRegressor as gbr\n",
    "from sklearn.ensemble import ExtraTreesRegressor as etr\n",
    "from sklearn.ensemble import RandomForestRegressor as rfr\n",
    "from sklearn.svm import SVR, NuSVR\n",
    "from sklearn.kernel_ridge import KernelRidge as krr\n",
    "from sklearn.linear_model import Lasso as lasso\n",
    "\n",
    "gb = run(gbr)\n",
    "lin = run(lr)\n",
    "et = run(etr)\n",
    "rf = run(rfr)\n",
    "\n",
    "defaults = (lin + et + gb + rf) / 4\n",
    "    "
   ]
  },
  {
   "cell_type": "code",
   "execution_count": 6,
   "metadata": {
    "collapsed": false
   },
   "outputs": [
    {
     "name": "stdout",
     "output_type": "stream",
     "text": [
      "\n",
      "average amape:  6.315300735219814\n",
      "(648, 4)\n",
      "\n",
      "\n",
      "average amape:  3.1677187670461473\n",
      "(648, 4)\n",
      "\n",
      "\n",
      "average amape:  3.1674773535736365\n",
      "(648, 4)\n",
      "\n",
      "\n",
      "average amape:  3.442255283916547\n",
      "(648, 4)\n",
      "\n",
      "\n",
      "average amape:  4.80327511026785\n",
      "(648, 4)\n",
      "\n",
      "\n",
      "average amape:  6.197934556394347\n",
      "(648, 4)\n",
      "\n",
      "\n",
      "average amape:  4.82496849597852\n",
      "(648, 4)\n",
      "\n"
     ]
    }
   ],
   "source": [
    "from __future__ import print_function\n",
    "from __future__ import division\n",
    "\n",
    "import os\n",
    "\n",
    "import pandas as pd\n",
    "import numpy as np\n",
    "from tqdm import tqdm_notebook\n",
    "\n",
    "from scipy.optimize import curve_fit\n",
    "\n",
    "# let's not pollute this blog post with warnings\n",
    "from warnings import filterwarnings\n",
    "filterwarnings('ignore')\n",
    "\n",
    "def interp_withlag(clf):\n",
    "    observations = pd.read_csv('training_set_observations.csv', index_col=0)\n",
    "    observations.head()\n",
    "\n",
    "    nest_counts = pd.read_csv(\n",
    "                    'training_set_nest_counts.csv',\n",
    "                    index_col=[0,1]\n",
    "                  )\n",
    "\n",
    "    # get a sort order for the sites with the most observations\n",
    "    sorted_idx = (pd.notnull(nest_counts)\n",
    "                    .sum(axis=1)\n",
    "                    .sort_values(ascending=False)\n",
    "                    .index)\n",
    "\n",
    "\n",
    "    def preprocess_timeseries(timeseries, first_year, fillna_value=0):\n",
    "        \"\"\" Takes one of the timeseries dataframes, removes\n",
    "            columns before `first_year`, and fills NaN values\n",
    "            with the preceeding value. Then backfills any\n",
    "            remaining NaNs.\n",
    "\n",
    "            As a courtesy, also turns year column name into\n",
    "            integers for easy comparisons.\n",
    "        \"\"\"\n",
    "        # column type\n",
    "        timeseries.columns = timeseries.columns.astype(int)\n",
    "\n",
    "        # subset to just data after first_year\n",
    "        timeseries = timeseries.loc[:, timeseries.columns >= first_year]\n",
    "\n",
    "        # Forward fill count values. This is a strong assumption.\n",
    "        timeseries.fillna(method=\"ffill\", axis=1, inplace=True)\n",
    "        timeseries.fillna(method=\"bfill\", axis=1, inplace=True)\n",
    "\n",
    "        # For sites with no observations, fill with fill_na_value\n",
    "        timeseries.fillna(fillna_value, inplace=True)\n",
    "\n",
    "        return timeseries\n",
    "\n",
    "    def preprocess_timeseries_interpolation_perrow(timeseries, first_year, fillna_value=0):\n",
    "        \"\"\" Takes one of the timeseries dataframes, removes\n",
    "            columns before `first_year`, and fills NaN values\n",
    "            with the preceeding value. Then backfills any\n",
    "            remaining NaNs.\n",
    "\n",
    "            As a courtesy, also turns year column name into\n",
    "            integers for easy comparisons.\n",
    "        \"\"\"\n",
    "        # column type\n",
    "        timeseries.columns = timeseries.columns.astype(int)\n",
    "        def interp(xxx):\n",
    "            xx = xxx.values\n",
    "            if np.isnan(xx).sum() == xx.shape[0]:\n",
    "                xxx.values[:] = fillna_value\n",
    "                return xxx\n",
    "            mask = np.isnan(xx)\n",
    "            xx[mask] = np.interp(np.flatnonzero(mask), np.flatnonzero(~mask), xx[~mask])\n",
    "            xxx.values[:] = xx\n",
    "            return xxx\n",
    "\n",
    "        # subset to just data after first_year\n",
    "        timeseries = timeseries.loc[:, timeseries.columns >= first_year]\n",
    "        timeseries = timeseries.apply(lambda x: interp(x),axis=1)\n",
    "        timeseries.fillna(fillna_value, inplace=True)\n",
    "        return timeseries\n",
    "\n",
    "    nest_counts = preprocess_timeseries_interpolation_perrow(nest_counts,\n",
    "                                        1980,\n",
    "                                        fillna_value=0.0)\n",
    "    nest_counts.head()\n",
    "\n",
    "    e_n_values = pd.read_csv(\n",
    "                      'training_set_e_n.csv',\n",
    "                     index_col=[0,1]\n",
    "                 )\n",
    "\n",
    "    # Process error data to match our nest_counts data\n",
    "    e_n_values = preprocess_timeseries(e_n_values, 1980, fillna_value=0.05)\n",
    "    e_n_values.head()\n",
    "\n",
    "    def amape(y_true, y_pred, accuracies):\n",
    "        \"\"\" Adjusted MAPE\n",
    "        \"\"\"\n",
    "        not_nan_mask = ~np.isnan(y_true)\n",
    "\n",
    "        # calculate absolute error\n",
    "        abs_error = (np.abs(y_true[not_nan_mask] - y_pred[not_nan_mask]))\n",
    "\n",
    "        # calculate the percent error (replacing 0 with 1\n",
    "        # in order to avoid divide-by-zero errors).\n",
    "        pct_error = abs_error / np.maximum(1, y_true[not_nan_mask])\n",
    "\n",
    "        # adjust error by count accuracies\n",
    "        adj_error = pct_error / accuracies[not_nan_mask]\n",
    "\n",
    "        # return the mean as a percentage\n",
    "        return np.mean(adj_error)\n",
    "\n",
    "    from sklearn.linear_model import LinearRegression as lin\n",
    "    from sklearn.ensemble import GradientBoostingRegressor as gbr\n",
    "    from sklearn.ensemble import ExtraTreesRegressor as etr\n",
    "    from sklearn.ensemble import RandomForestRegressor as rfr\n",
    "    from sklearn.svm import SVR, NuSVR\n",
    "    from sklearn.kernel_ridge import KernelRidge as krr\n",
    "    from sklearn.linear_model import Lasso as lasso\n",
    "\n",
    "    def train_model_per_row(ts, acc, split_year=2010):\n",
    "        # Split into train/test to tune our parameter\n",
    "        train = ts.iloc[ts.index < split_year]\n",
    "\n",
    "        test = ts.iloc[ts.index >= split_year]\n",
    "        test_acc = acc.iloc[acc.index >= split_year]\n",
    "\n",
    "        # Store best lag parameter\n",
    "        best_mape = np.inf \n",
    "        best_lag = None\n",
    "\n",
    "        # Test linear regression models with the most recent\n",
    "        # 2 points through using all of the points\n",
    "        for lag in range(2, train.shape[0]):\n",
    "            # fit the model\n",
    "            temp_model = clf()\n",
    "            temp_model.fit(\n",
    "                train.index[-lag:].values.reshape(-1, 1),\n",
    "                train[-lag:]#,epochs=50,verbose=False, batch_size=1, shuffle=False\n",
    "            )\n",
    "\n",
    "            # make our predictions on the test set\n",
    "            preds = temp_model.predict(\n",
    "                        test.index.values.reshape(-1, 1)\n",
    "                    )\n",
    "\n",
    "            # calculate the score using the custom metric\n",
    "            mape = amape(test.values,\n",
    "                         preds,\n",
    "                         test_acc.values)\n",
    "\n",
    "            # if it's the best score yet, hold on to the parameter\n",
    "            if mape < best_mape:\n",
    "                best_mape = mape\n",
    "                best_lag = lag\n",
    "    #     print( best_lag,\" : \",best_mape)\n",
    "        # return model re-trained on entire dataset\n",
    "        final_model =  clf()\n",
    "        final_model.fit(\n",
    "            ts.index[-best_lag:].values.reshape(-1, 1),\n",
    "            ts[-best_lag:]#,epochs=50,verbose=False, batch_size=1, shuffle=False\n",
    "        )\n",
    "\n",
    "        return best_mape, final_model\n",
    "\n",
    "    models = {}\n",
    "    scores = []\n",
    "\n",
    "    # print(nest_counts.head())\n",
    "\n",
    "    for i, row in tqdm_notebook(nest_counts.iterrows(),\n",
    "                                total=nest_counts.shape[0]):\n",
    "        acc = e_n_values.loc[i]\n",
    "        score, models[i] = train_model_per_row(row, acc)\n",
    "        scores.append(score)\n",
    "\n",
    "    print(\"average amape: \",np.array(scores).ravel().mean())    \n",
    "\n",
    "    submission_format = pd.read_csv(\n",
    "        'submission_format.csv',\n",
    "        index_col=[0, 1]\n",
    "    )\n",
    "\n",
    "    print(submission_format.shape)\n",
    "    submission_format.head()\n",
    "\n",
    "    preds = []\n",
    "\n",
    "    # For every row in the submission file\n",
    "    for i, row in tqdm_notebook(submission_format.iterrows(),\n",
    "                                total=submission_format.shape[0]):\n",
    "\n",
    "        # get the model for this site + common_name\n",
    "        model = models[i]\n",
    "\n",
    "        # make predictions using the model\n",
    "        row_predictions = model.predict(\n",
    "            submission_format.columns.values.reshape(-1, 1)\n",
    "        )\n",
    "\n",
    "        # keep our predictions, rounded to nearest whole number\n",
    "        preds.append(np.round(row_predictions))\n",
    "\n",
    "    # Create a dataframe that we can write out to a CSV\n",
    "    prediction_df = pd.DataFrame(preds,\n",
    "                                 index=submission_format.index,\n",
    "                                 columns=submission_format.columns)\n",
    "\n",
    "    prediction_df.head()\n",
    "\n",
    "    return prediction_df\n",
    "\n",
    "\n",
    "lin = interp_withlag(lr)\n",
    "et = interp_withlag(etr)\n",
    "gb = interp_withlag(gbr)\n",
    "rf = interp_withlag(rfr)\n",
    "svr = interp_withlag(SVR)\n",
    "lso = interp_withlag(lasso)\n",
    "kr = interp_withlag(krr)\n",
    "\n",
    "interp_sub = (lin + et + gb + rf + svr + lso + kr) / 7\n",
    "\n",
    "\n",
    "\n"
   ]
  },
  {
   "cell_type": "code",
   "execution_count": 7,
   "metadata": {
    "collapsed": true
   },
   "outputs": [],
   "source": [
    "sub = (interp_sub + defaults) / 2\n"
   ]
  },
  {
   "cell_type": "code",
   "execution_count": 8,
   "metadata": {
    "collapsed": true
   },
   "outputs": [],
   "source": [
    "sub.to_csv('./submission.csv')"
   ]
  }
 ],
 "metadata": {
  "kernelspec": {
   "display_name": "Python 2",
   "language": "python",
   "name": "python2"
  },
  "language_info": {
   "codemirror_mode": {
    "name": "ipython",
    "version": 2
   },
   "file_extension": ".py",
   "mimetype": "text/x-python",
   "name": "python",
   "nbconvert_exporter": "python",
   "pygments_lexer": "ipython2",
   "version": "2.7.13"
  },
  "widgets": {
   "state": {
    "000632de77b3414eb2fbaa2bbd391848": {
     "views": [
      {
       "cell_index": 1
      }
     ]
    },
    "01a03b1666ca444da7c22c5042feab20": {
     "views": [
      {
       "cell_index": 1
      }
     ]
    },
    "01e8682243ec4f5f8068a00a0fb106ea": {
     "views": [
      {
       "cell_index": 2
      }
     ]
    },
    "021b90ad51b54bddb306fd8173691c33": {
     "views": [
      {
       "cell_index": 5
      }
     ]
    },
    "02693e6cb64046a9b313673ad5c626b9": {
     "views": [
      {
       "cell_index": 0
      }
     ]
    },
    "0510df423c6f41c2a6c1451457a76152": {
     "views": [
      {
       "cell_index": 2
      }
     ]
    },
    "0939727382fa4e15a1a213f440ba0678": {
     "views": [
      {
       "cell_index": 5
      }
     ]
    },
    "0b40b23811674233941d3eb85edd786d": {
     "views": [
      {
       "cell_index": 2
      }
     ]
    },
    "0b92e4906dc14412893335d8e21b7389": {
     "views": [
      {
       "cell_index": 5
      }
     ]
    },
    "0f49dfccde9b48e7b629feda36223d09": {
     "views": [
      {
       "cell_index": 2
      }
     ]
    },
    "11c29a02513746ad859afb329b6d61b2": {
     "views": [
      {
       "cell_index": 1
      }
     ]
    },
    "1229c290e1734a64a120f68fe9c3baf4": {
     "views": [
      {
       "cell_index": 1
      }
     ]
    },
    "12980f41d3634741a6a70482a676f739": {
     "views": [
      {
       "cell_index": 2
      }
     ]
    },
    "15542206780b4d73ba44553a623d0fd1": {
     "views": [
      {
       "cell_index": 1
      }
     ]
    },
    "1647917115d54cb0a3af54df7d770799": {
     "views": [
      {
       "cell_index": 1
      }
     ]
    },
    "1b124c12851448b9af5a82c12ab2eff1": {
     "views": [
      {
       "cell_index": 1
      }
     ]
    },
    "1c2ad9f71b484497919c1c32ec526c5f": {
     "views": [
      {
       "cell_index": 5
      }
     ]
    },
    "1c5b8f6df5a3427f90ff36e2e6e37277": {
     "views": [
      {
       "cell_index": 1
      }
     ]
    },
    "1c6c4c3364a64d1fa6a9b80fe9a58b6b": {
     "views": [
      {
       "cell_index": 1
      }
     ]
    },
    "2011cdd3c4314e95b1ee11d70b33c8c4": {
     "views": [
      {
       "cell_index": 2
      }
     ]
    },
    "20b5a792d44040eebf65f701cdc782ee": {
     "views": [
      {
       "cell_index": 2
      }
     ]
    },
    "217f42fb5efe43bab917a0754925a8fb": {
     "views": [
      {
       "cell_index": 1
      }
     ]
    },
    "25d72dd5378d4841ac6ee197c1452859": {
     "views": [
      {
       "cell_index": 1
      }
     ]
    },
    "272f74e2125043808b8927749397c6b0": {
     "views": [
      {
       "cell_index": 3
      }
     ]
    },
    "296988a518134e95afe23dc5eb04a756": {
     "views": [
      {
       "cell_index": 0
      }
     ]
    },
    "2977428ad9f74b7c8ffac557a10e97b1": {
     "views": [
      {
       "cell_index": 1
      }
     ]
    },
    "2a6fe78457014e76aadfeb74368f7f62": {
     "views": [
      {
       "cell_index": 1
      }
     ]
    },
    "2d17f9366c134e039d1ab0e7efbbaaaa": {
     "views": [
      {
       "cell_index": 1
      }
     ]
    },
    "2d3bed2df9734bdb8cdf742cacfb2797": {
     "views": [
      {
       "cell_index": 0
      }
     ]
    },
    "35c6785dd3b34c1695b5bc325faf22a9": {
     "views": [
      {
       "cell_index": 4
      }
     ]
    },
    "369f19b63c2240be87025306e3a9f138": {
     "views": [
      {
       "cell_index": 1
      }
     ]
    },
    "3839c2bdd0fb4171a3b4a37c193dc416": {
     "views": [
      {
       "cell_index": 1
      }
     ]
    },
    "391333810fe3475586817cf19449d4b6": {
     "views": [
      {
       "cell_index": 1
      }
     ]
    },
    "39d6f40977eb48b596a8cc68101b291d": {
     "views": [
      {
       "cell_index": 2
      }
     ]
    },
    "3b5f921c72cf445eb2fbae8b1020b0f8": {
     "views": [
      {
       "cell_index": 1
      }
     ]
    },
    "3d3740ec9f6d448cbd595c1c1e481ac9": {
     "views": [
      {
       "cell_index": 1
      }
     ]
    },
    "3f60a87026f64ee9b03306236e24bac0": {
     "views": [
      {
       "cell_index": 0
      }
     ]
    },
    "44e60d0a1c30450cb9a402c5effe4ca8": {
     "views": [
      {
       "cell_index": 1
      }
     ]
    },
    "45faaa519bcc43ae80613ee5535459ce": {
     "views": [
      {
       "cell_index": 3
      }
     ]
    },
    "49d9bd9f70e040f6a9f7b5815671fe88": {
     "views": [
      {
       "cell_index": 5
      }
     ]
    },
    "4b1f1134fd8b4b54bd86ae8192e42258": {
     "views": [
      {
       "cell_index": 5
      }
     ]
    },
    "4c9986f07ee6456990d56334754ad696": {
     "views": [
      {
       "cell_index": 2
      }
     ]
    },
    "50d2e8aedc38494486ada317c4d79674": {
     "views": [
      {
       "cell_index": 4
      }
     ]
    },
    "510345b1882f4388bc66fb5da379583f": {
     "views": [
      {
       "cell_index": 1
      }
     ]
    },
    "51be70d0d1b04f01aa96b66931688614": {
     "views": [
      {
       "cell_index": 1
      }
     ]
    },
    "54917e8e4faf4d2bb5a76d98beedb93a": {
     "views": [
      {
       "cell_index": 5
      }
     ]
    },
    "56f18060f8ab4c92b69f558e5cfa1dd7": {
     "views": [
      {
       "cell_index": 1
      }
     ]
    },
    "572b31e01ea647dca629a24086acae8e": {
     "views": [
      {
       "cell_index": 5
      }
     ]
    },
    "58bb7be34b94479c8ceaaa4cf51ae371": {
     "views": [
      {
       "cell_index": 0
      }
     ]
    },
    "591ab2402a7447ea9a60721722071098": {
     "views": [
      {
       "cell_index": 0
      }
     ]
    },
    "5aa39561e9334a059b2fa6af3df2a9fe": {
     "views": [
      {
       "cell_index": 5
      }
     ]
    },
    "5ab45120e76c419a987bf2088d7537d3": {
     "views": [
      {
       "cell_index": 1
      }
     ]
    },
    "5ee2c396aa9d48ac948fab77eba53688": {
     "views": [
      {
       "cell_index": 1
      }
     ]
    },
    "5f6b72a5268049ccb20d869444695ee9": {
     "views": [
      {
       "cell_index": 5
      }
     ]
    },
    "5fea28da35474bb4822bc8f733e12640": {
     "views": [
      {
       "cell_index": 1
      }
     ]
    },
    "605806e7bf7d4b5bae2ddc4f879024cb": {
     "views": [
      {
       "cell_index": 1
      }
     ]
    },
    "60bfd266edde4bd99eb7111e2fc7ea10": {
     "views": [
      {
       "cell_index": 2
      }
     ]
    },
    "63e82d81693c4bcfbaf2424d2de8acfa": {
     "views": [
      {
       "cell_index": 1
      }
     ]
    },
    "65544fda64a7476b9d1d3b0ad3c8bcd4": {
     "views": [
      {
       "cell_index": 1
      }
     ]
    },
    "65d79dc4e292491db966a5e4a087255f": {
     "views": [
      {
       "cell_index": 1
      }
     ]
    },
    "6665b44a151e482cb50edd39a9a8718d": {
     "views": [
      {
       "cell_index": 3
      }
     ]
    },
    "68165f2d80584ef0aca5113a1ca0f7f4": {
     "views": [
      {
       "cell_index": 1
      }
     ]
    },
    "6aff47641b9f46e7800390c6d24232e0": {
     "views": [
      {
       "cell_index": 1
      }
     ]
    },
    "6c16ccd9285d4cce92902f7485ac65c3": {
     "views": [
      {
       "cell_index": 0
      }
     ]
    },
    "6c750f8d7a3d4475b22b15ed8fcacd5f": {
     "views": [
      {
       "cell_index": 1
      }
     ]
    },
    "6cc610632ae342359a6ac0419fab4949": {
     "views": [
      {
       "cell_index": 1
      }
     ]
    },
    "6eb6fa73a3c247e38b8aed1fe4bfb9df": {
     "views": [
      {
       "cell_index": 1
      }
     ]
    },
    "70e7c5f4cec74456ba19afcc30940c00": {
     "views": [
      {
       "cell_index": 1
      }
     ]
    },
    "70e85e6cf55c4b2bae67cd0a6466e112": {
     "views": [
      {
       "cell_index": 1
      }
     ]
    },
    "7107a9ff29aa40f9bfb0715c5df92466": {
     "views": [
      {
       "cell_index": 1
      }
     ]
    },
    "74da1e401b324d29a24d84ad32725308": {
     "views": [
      {
       "cell_index": 1
      }
     ]
    },
    "762690a459e04a7e952bc436964b2fae": {
     "views": [
      {
       "cell_index": 2
      }
     ]
    },
    "766bf59842394c2ebe5d27d9adb91515": {
     "views": [
      {
       "cell_index": 1
      }
     ]
    },
    "7d1b28aa81d742fea1db7e7ed7bab0cc": {
     "views": [
      {
       "cell_index": 1
      }
     ]
    },
    "7ef32341f0c54f00b816fb622be0cdfd": {
     "views": [
      {
       "cell_index": 1
      }
     ]
    },
    "7f43e6c38af743ca87b409a806d53e05": {
     "views": [
      {
       "cell_index": 5
      }
     ]
    },
    "7fbd3f6836494dbab1df6e950dd3b851": {
     "views": [
      {
       "cell_index": 2
      }
     ]
    },
    "8338443368354b469136a93786c7aac1": {
     "views": [
      {
       "cell_index": 2
      }
     ]
    },
    "83debb02b58549808625a3c2004cfeec": {
     "views": [
      {
       "cell_index": 3
      }
     ]
    },
    "850a399452e84171a9c44af30117eec8": {
     "views": [
      {
       "cell_index": 1
      }
     ]
    },
    "877c5e43e4e7470ebf5db32de12abcb4": {
     "views": [
      {
       "cell_index": 1
      }
     ]
    },
    "8802de33b4e04bdab4b4bfe18cd2f5cf": {
     "views": [
      {
       "cell_index": 5
      }
     ]
    },
    "882ffc548bfc4055a2a29ebd8a0d7814": {
     "views": [
      {
       "cell_index": 1
      }
     ]
    },
    "892e61f3ea2c4445be092ac97eb4b187": {
     "views": [
      {
       "cell_index": 2
      }
     ]
    },
    "8aadeba7e65a477ca21bf858679c336e": {
     "views": [
      {
       "cell_index": 1
      }
     ]
    },
    "8ae2b0e3d21e4e2181f735a97bd4ec20": {
     "views": [
      {
       "cell_index": 1
      }
     ]
    },
    "8ce911923627461fbc0842377e7c8d67": {
     "views": [
      {
       "cell_index": 1
      }
     ]
    },
    "909b83906b19409a92fc4d77b2cfa42d": {
     "views": [
      {
       "cell_index": 1
      }
     ]
    },
    "9463c2d7099845b5b5825c5c92bae9f1": {
     "views": [
      {
       "cell_index": 5
      }
     ]
    },
    "95fb322dab774ae5b1744c2bf03ac4cc": {
     "views": [
      {
       "cell_index": 2
      }
     ]
    },
    "96016434939b499e90ca18e4a451088c": {
     "views": [
      {
       "cell_index": 3
      }
     ]
    },
    "9780f2c122434c2c9af7352a350bf107": {
     "views": [
      {
       "cell_index": 1
      }
     ]
    },
    "982b5aadf726498d815439983ea60870": {
     "views": [
      {
       "cell_index": 1
      }
     ]
    },
    "9b05e983598243e88a11f6c27b70897a": {
     "views": [
      {
       "cell_index": 3
      }
     ]
    },
    "9bf2de959f8f4e64b9efd6134d3a02ab": {
     "views": [
      {
       "cell_index": 1
      }
     ]
    },
    "9db4ec6d558e4751be0fecffb0c27e8e": {
     "views": [
      {
       "cell_index": 1
      }
     ]
    },
    "9e3c90d899cd45bd95beb0c479d4ad3e": {
     "views": [
      {
       "cell_index": 0
      }
     ]
    },
    "9edc5fa2e2664e5d87b8c629eeea70ac": {
     "views": [
      {
       "cell_index": 4
      }
     ]
    },
    "9f09343b93214fbb9af74b566c67f370": {
     "views": [
      {
       "cell_index": 1
      }
     ]
    },
    "9f8fae0928854e748818920bccfd3ebf": {
     "views": [
      {
       "cell_index": 1
      }
     ]
    },
    "a13f93daca8048d38d9b887d9633dbb2": {
     "views": [
      {
       "cell_index": 1
      }
     ]
    },
    "a1a4051e7cb74cc88ef52bd7263adb23": {
     "views": [
      {
       "cell_index": 1
      }
     ]
    },
    "a2d2738dd36041478c14a47295d3088f": {
     "views": [
      {
       "cell_index": 4
      }
     ]
    },
    "a476fe803cbc4d55a19f6f4c502e194e": {
     "views": [
      {
       "cell_index": 1
      }
     ]
    },
    "a5b86cd7f6c84682a9d83f45c6fc8862": {
     "views": [
      {
       "cell_index": 3
      }
     ]
    },
    "a69922c92ac445f5a7da965081634e53": {
     "views": [
      {
       "cell_index": 1
      }
     ]
    },
    "aa7ebcf2794a4edbbd2e928395ea41b0": {
     "views": [
      {
       "cell_index": 1
      }
     ]
    },
    "ab0c058afb3c4df8a1f4321abc04b3cf": {
     "views": [
      {
       "cell_index": 5
      }
     ]
    },
    "ab7927cd11e34a70acff809674046b86": {
     "views": [
      {
       "cell_index": 2
      }
     ]
    },
    "ac8c31d4f1d0471fa2a840d72c647c3a": {
     "views": [
      {
       "cell_index": 1
      }
     ]
    },
    "ac9fac9bbbe54edfa1d7be481dbffaf1": {
     "views": [
      {
       "cell_index": 0
      }
     ]
    },
    "b1473e2fd1ea43bba0fe7368c259109e": {
     "views": [
      {
       "cell_index": 5
      }
     ]
    },
    "b270b7ba46f840d18cce6a47ea15af5f": {
     "views": [
      {
       "cell_index": 1
      }
     ]
    },
    "b4db8cbf907a4f25a9511f10cb824acd": {
     "views": [
      {
       "cell_index": 1
      }
     ]
    },
    "b5c9bf54b84e49068b0d6973637da8d0": {
     "views": [
      {
       "cell_index": 3
      }
     ]
    },
    "b6a9b66d171547769a887f2a1b8db173": {
     "views": [
      {
       "cell_index": 1
      }
     ]
    },
    "b781f4c1e53e47569c46db9609ef40e3": {
     "views": [
      {
       "cell_index": 1
      }
     ]
    },
    "bf1a8ebac9644a6d807a81c48c340111": {
     "views": [
      {
       "cell_index": 1
      }
     ]
    },
    "bfb980f3d3c84a96a1c222649b429180": {
     "views": [
      {
       "cell_index": 1
      }
     ]
    },
    "c03012b96ee3420f8a6d80b651cec0b8": {
     "views": [
      {
       "cell_index": 5
      }
     ]
    },
    "c846ca9d7f38496fa5716101d739770b": {
     "views": [
      {
       "cell_index": 1
      }
     ]
    },
    "ca5a287ef88b4569ad5e28438b71d81e": {
     "views": [
      {
       "cell_index": 1
      }
     ]
    },
    "ca7d76a8ff1a43f59f1bf080140ac708": {
     "views": [
      {
       "cell_index": 1
      }
     ]
    },
    "cac0885b10aa4d14a9b12c9bff63bb26": {
     "views": [
      {
       "cell_index": 3
      }
     ]
    },
    "cb58db12c1f644e386c4d0eedfc9a5f7": {
     "views": [
      {
       "cell_index": 0
      }
     ]
    },
    "cde4be73d9954b73b07e51eea7c19d97": {
     "views": [
      {
       "cell_index": 1
      }
     ]
    },
    "ce1078190174454b84570872e5329851": {
     "views": [
      {
       "cell_index": 0
      }
     ]
    },
    "d1c624e436184f6191375feb824fdac1": {
     "views": [
      {
       "cell_index": 1
      }
     ]
    },
    "d356a9428a084903bcb310499a1ba0ad": {
     "views": [
      {
       "cell_index": 4
      }
     ]
    },
    "de080dec6d61485ea62fbc089c92e19a": {
     "views": [
      {
       "cell_index": 3
      }
     ]
    },
    "de5d27e77a0f42f7b09609f66203c45a": {
     "views": [
      {
       "cell_index": 0
      }
     ]
    },
    "e3017f1740c248dba9bf366672e81b4b": {
     "views": [
      {
       "cell_index": 1
      }
     ]
    },
    "e462e1e4e4f34d59a5cc42dc4da5324e": {
     "views": [
      {
       "cell_index": 1
      }
     ]
    },
    "e52a8dfc43d6466db013b700e30e8d89": {
     "views": [
      {
       "cell_index": 3
      }
     ]
    },
    "e70245a79fbe4270a48230785cf6ecd4": {
     "views": [
      {
       "cell_index": 1
      }
     ]
    },
    "ea94186fc15e41519586417d76cd5ca9": {
     "views": [
      {
       "cell_index": 4
      }
     ]
    },
    "ed892ebd5bdb4feb9dbecd1001a08a05": {
     "views": [
      {
       "cell_index": 1
      }
     ]
    },
    "ef73a9c78e764ed4857c3f496ac75242": {
     "views": [
      {
       "cell_index": 1
      }
     ]
    },
    "f01f33a4888341d185e30f7b41fdd19d": {
     "views": [
      {
       "cell_index": 3
      }
     ]
    },
    "f1c8b0dd1d3340b396f717eb019902d7": {
     "views": [
      {
       "cell_index": 1
      }
     ]
    },
    "f3e8190c720c4d398d6348debda69ea7": {
     "views": [
      {
       "cell_index": 3
      }
     ]
    },
    "f44307cff5104411bce265821ef84bff": {
     "views": [
      {
       "cell_index": 3
      }
     ]
    },
    "f6310c5f0ea44a388dc102f91dcd3c14": {
     "views": [
      {
       "cell_index": 3
      }
     ]
    },
    "f714b8f8f184403db0cdb67a61b7fa27": {
     "views": [
      {
       "cell_index": 5
      }
     ]
    },
    "f81dcee02a3c413ca7e19a806073d7b9": {
     "views": [
      {
       "cell_index": 5
      }
     ]
    },
    "f8f6c98340b440f9bd3c99e25c51016f": {
     "views": [
      {
       "cell_index": 1
      }
     ]
    },
    "fc8ff51e609a4bc89dc4e15cc422c9fe": {
     "views": [
      {
       "cell_index": 4
      }
     ]
    },
    "fcc5aabc94c844c9b20db4c8876c88f0": {
     "views": [
      {
       "cell_index": 1
      }
     ]
    },
    "fdd134e0ad3a436182c2c439b318e03a": {
     "views": [
      {
       "cell_index": 1
      }
     ]
    },
    "ff2ea0b5100741bfb1a1dba5a93a1973": {
     "views": [
      {
       "cell_index": 1
      }
     ]
    }
   },
   "version": "1.2.0"
  }
 },
 "nbformat": 4,
 "nbformat_minor": 2
}
